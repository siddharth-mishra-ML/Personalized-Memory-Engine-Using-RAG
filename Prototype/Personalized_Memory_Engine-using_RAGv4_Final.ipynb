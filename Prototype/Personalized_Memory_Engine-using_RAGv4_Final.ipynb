{
 "cells": [
  {
   "cell_type": "markdown",
   "metadata": {},
   "source": [
    "# 🧠 Personalized Memory Engine: Final Version\n",
    "This notebook contains the final, consolidated code for the RAG-based personalized memory engine. It demonstrates the complete backend logic, including memory storage, hybrid-score retrieval, conversational context, and memory maintenance. The final cell provides a command-line interface to interact with the engine."
   ]
  },
  {
   "cell_type": "markdown",
   "metadata": {},
   "source": [
    "## 📦 Step 1: Installation and Imports"
   ]
  },
  {
   "cell_type": "code",
   "execution_count": 3,
   "metadata": {},
   "outputs": [
    {
     "name": "stdout",
     "output_type": "stream",
     "text": [
      "Requirement already satisfied: chromadb in c:\\users\\crazz\\anaconda3\\lib\\site-packages (1.0.15)\n",
      "Requirement already satisfied: sentence-transformers in c:\\users\\crazz\\anaconda3\\lib\\site-packages (5.0.0)\n",
      "Requirement already satisfied: numpy in c:\\users\\crazz\\anaconda3\\lib\\site-packages (1.26.4)\n",
      "Requirement already satisfied: ollama in c:\\users\\crazz\\anaconda3\\lib\\site-packages (0.5.3)\n",
      "Requirement already satisfied: build>=1.0.3 in c:\\users\\crazz\\anaconda3\\lib\\site-packages (from chromadb) (1.2.2.post1)\n",
      "Requirement already satisfied: pydantic>=1.9 in c:\\users\\crazz\\anaconda3\\lib\\site-packages (from chromadb) (2.10.3)\n",
      "Requirement already satisfied: pybase64>=1.4.1 in c:\\users\\crazz\\anaconda3\\lib\\site-packages (from chromadb) (1.4.1)\n",
      "Requirement already satisfied: uvicorn>=0.18.3 in c:\\users\\crazz\\anaconda3\\lib\\site-packages (from uvicorn[standard]>=0.18.3->chromadb) (0.35.0)\n",
      "Requirement already satisfied: posthog<6.0.0,>=2.4.0 in c:\\users\\crazz\\anaconda3\\lib\\site-packages (from chromadb) (5.4.0)\n",
      "Requirement already satisfied: typing-extensions>=4.5.0 in c:\\users\\crazz\\anaconda3\\lib\\site-packages (from chromadb) (4.12.2)\n",
      "Requirement already satisfied: onnxruntime>=1.14.1 in c:\\users\\crazz\\anaconda3\\lib\\site-packages (from chromadb) (1.22.0)\n",
      "Requirement already satisfied: opentelemetry-api>=1.2.0 in c:\\users\\crazz\\anaconda3\\lib\\site-packages (from chromadb) (1.34.1)\n",
      "Requirement already satisfied: opentelemetry-exporter-otlp-proto-grpc>=1.2.0 in c:\\users\\crazz\\anaconda3\\lib\\site-packages (from chromadb) (1.34.1)\n",
      "Requirement already satisfied: opentelemetry-sdk>=1.2.0 in c:\\users\\crazz\\anaconda3\\lib\\site-packages (from chromadb) (1.34.1)\n",
      "Requirement already satisfied: tokenizers>=0.13.2 in c:\\users\\crazz\\anaconda3\\lib\\site-packages (from chromadb) (0.21.2)\n",
      "Requirement already satisfied: pypika>=0.48.9 in c:\\users\\crazz\\anaconda3\\lib\\site-packages (from chromadb) (0.48.9)\n",
      "Requirement already satisfied: tqdm>=4.65.0 in c:\\users\\crazz\\anaconda3\\lib\\site-packages (from chromadb) (4.67.1)\n",
      "Requirement already satisfied: overrides>=7.3.1 in c:\\users\\crazz\\anaconda3\\lib\\site-packages (from chromadb) (7.4.0)\n",
      "Requirement already satisfied: importlib-resources in c:\\users\\crazz\\anaconda3\\lib\\site-packages (from chromadb) (6.5.2)\n",
      "Requirement already satisfied: grpcio>=1.58.0 in c:\\users\\crazz\\anaconda3\\lib\\site-packages (from chromadb) (1.73.1)\n",
      "Requirement already satisfied: bcrypt>=4.0.1 in c:\\users\\crazz\\anaconda3\\lib\\site-packages (from chromadb) (4.3.0)\n",
      "Requirement already satisfied: typer>=0.9.0 in c:\\users\\crazz\\anaconda3\\lib\\site-packages (from chromadb) (0.9.0)\n",
      "Requirement already satisfied: kubernetes>=28.1.0 in c:\\users\\crazz\\anaconda3\\lib\\site-packages (from chromadb) (33.1.0)\n",
      "Requirement already satisfied: tenacity>=8.2.3 in c:\\users\\crazz\\anaconda3\\lib\\site-packages (from chromadb) (9.0.0)\n",
      "Requirement already satisfied: pyyaml>=6.0.0 in c:\\users\\crazz\\anaconda3\\lib\\site-packages (from chromadb) (6.0.2)\n",
      "Requirement already satisfied: mmh3>=4.0.1 in c:\\users\\crazz\\anaconda3\\lib\\site-packages (from chromadb) (5.1.0)\n",
      "Requirement already satisfied: orjson>=3.9.12 in c:\\users\\crazz\\anaconda3\\lib\\site-packages (from chromadb) (3.10.18)\n",
      "Requirement already satisfied: httpx>=0.27.0 in c:\\users\\crazz\\anaconda3\\lib\\site-packages (from chromadb) (0.27.0)\n",
      "Requirement already satisfied: rich>=10.11.0 in c:\\users\\crazz\\anaconda3\\lib\\site-packages (from chromadb) (13.9.4)\n",
      "Requirement already satisfied: jsonschema>=4.19.0 in c:\\users\\crazz\\anaconda3\\lib\\site-packages (from chromadb) (4.23.0)\n",
      "Requirement already satisfied: transformers<5.0.0,>=4.41.0 in c:\\users\\crazz\\anaconda3\\lib\\site-packages (from sentence-transformers) (4.53.1)\n",
      "Requirement already satisfied: torch>=1.11.0 in c:\\users\\crazz\\anaconda3\\lib\\site-packages (from sentence-transformers) (2.7.1)\n",
      "Requirement already satisfied: scikit-learn in c:\\users\\crazz\\anaconda3\\lib\\site-packages (from sentence-transformers) (1.6.1)\n",
      "Requirement already satisfied: scipy in c:\\users\\crazz\\anaconda3\\lib\\site-packages (from sentence-transformers) (1.13.1)\n",
      "Requirement already satisfied: huggingface-hub>=0.20.0 in c:\\users\\crazz\\anaconda3\\lib\\site-packages (from sentence-transformers) (0.33.2)\n",
      "Requirement already satisfied: Pillow in c:\\users\\crazz\\anaconda3\\lib\\site-packages (from sentence-transformers) (11.0.0)\n",
      "Requirement already satisfied: packaging>=19.1 in c:\\users\\crazz\\anaconda3\\lib\\site-packages (from build>=1.0.3->chromadb) (24.2)\n",
      "Requirement already satisfied: pyproject_hooks in c:\\users\\crazz\\anaconda3\\lib\\site-packages (from build>=1.0.3->chromadb) (1.2.0)\n",
      "Requirement already satisfied: colorama in c:\\users\\crazz\\anaconda3\\lib\\site-packages (from build>=1.0.3->chromadb) (0.4.6)\n",
      "Requirement already satisfied: tomli>=1.1.0 in c:\\users\\crazz\\anaconda3\\lib\\site-packages (from build>=1.0.3->chromadb) (2.0.1)\n",
      "Requirement already satisfied: anyio in c:\\users\\crazz\\anaconda3\\lib\\site-packages (from httpx>=0.27.0->chromadb) (4.6.2)\n",
      "Requirement already satisfied: certifi in c:\\users\\crazz\\anaconda3\\lib\\site-packages (from httpx>=0.27.0->chromadb) (2025.6.15)\n",
      "Requirement already satisfied: httpcore==1.* in c:\\users\\crazz\\anaconda3\\lib\\site-packages (from httpx>=0.27.0->chromadb) (1.0.2)\n",
      "Requirement already satisfied: idna in c:\\users\\crazz\\anaconda3\\lib\\site-packages (from httpx>=0.27.0->chromadb) (3.7)\n",
      "Requirement already satisfied: sniffio in c:\\users\\crazz\\anaconda3\\lib\\site-packages (from httpx>=0.27.0->chromadb) (1.3.0)\n",
      "Requirement already satisfied: h11<0.15,>=0.13 in c:\\users\\crazz\\anaconda3\\lib\\site-packages (from httpcore==1.*->httpx>=0.27.0->chromadb) (0.14.0)\n",
      "Requirement already satisfied: filelock in c:\\users\\crazz\\anaconda3\\lib\\site-packages (from huggingface-hub>=0.20.0->sentence-transformers) (3.13.1)\n",
      "Requirement already satisfied: fsspec>=2023.5.0 in c:\\users\\crazz\\anaconda3\\lib\\site-packages (from huggingface-hub>=0.20.0->sentence-transformers) (2024.12.0)\n",
      "Requirement already satisfied: requests in c:\\users\\crazz\\anaconda3\\lib\\site-packages (from huggingface-hub>=0.20.0->sentence-transformers) (2.32.3)\n",
      "Requirement already satisfied: attrs>=22.2.0 in c:\\users\\crazz\\anaconda3\\lib\\site-packages (from jsonschema>=4.19.0->chromadb) (24.3.0)\n",
      "Requirement already satisfied: jsonschema-specifications>=2023.03.6 in c:\\users\\crazz\\anaconda3\\lib\\site-packages (from jsonschema>=4.19.0->chromadb) (2023.7.1)\n",
      "Requirement already satisfied: referencing>=0.28.4 in c:\\users\\crazz\\anaconda3\\lib\\site-packages (from jsonschema>=4.19.0->chromadb) (0.30.2)\n",
      "Requirement already satisfied: rpds-py>=0.7.1 in c:\\users\\crazz\\anaconda3\\lib\\site-packages (from jsonschema>=4.19.0->chromadb) (0.22.3)\n",
      "Requirement already satisfied: six>=1.9.0 in c:\\users\\crazz\\anaconda3\\lib\\site-packages (from kubernetes>=28.1.0->chromadb) (1.16.0)\n",
      "Requirement already satisfied: python-dateutil>=2.5.3 in c:\\users\\crazz\\anaconda3\\lib\\site-packages (from kubernetes>=28.1.0->chromadb) (2.9.0.post0)\n",
      "Requirement already satisfied: google-auth>=1.0.1 in c:\\users\\crazz\\anaconda3\\lib\\site-packages (from kubernetes>=28.1.0->chromadb) (2.40.3)\n",
      "Requirement already satisfied: websocket-client!=0.40.0,!=0.41.*,!=0.42.*,>=0.32.0 in c:\\users\\crazz\\anaconda3\\lib\\site-packages (from kubernetes>=28.1.0->chromadb) (1.8.0)\n",
      "Requirement already satisfied: requests-oauthlib in c:\\users\\crazz\\anaconda3\\lib\\site-packages (from kubernetes>=28.1.0->chromadb) (2.0.0)\n",
      "Requirement already satisfied: oauthlib>=3.2.2 in c:\\users\\crazz\\anaconda3\\lib\\site-packages (from kubernetes>=28.1.0->chromadb) (3.3.1)\n",
      "Requirement already satisfied: urllib3>=1.24.2 in c:\\users\\crazz\\anaconda3\\lib\\site-packages (from kubernetes>=28.1.0->chromadb) (2.3.0)\n",
      "Requirement already satisfied: durationpy>=0.7 in c:\\users\\crazz\\anaconda3\\lib\\site-packages (from kubernetes>=28.1.0->chromadb) (0.10)\n",
      "Requirement already satisfied: coloredlogs in c:\\users\\crazz\\anaconda3\\lib\\site-packages (from onnxruntime>=1.14.1->chromadb) (15.0.1)\n",
      "Requirement already satisfied: flatbuffers in c:\\users\\crazz\\anaconda3\\lib\\site-packages (from onnxruntime>=1.14.1->chromadb) (25.2.10)\n",
      "Requirement already satisfied: protobuf in c:\\users\\crazz\\anaconda3\\lib\\site-packages (from onnxruntime>=1.14.1->chromadb) (5.29.5)\n",
      "Requirement already satisfied: sympy in c:\\users\\crazz\\anaconda3\\lib\\site-packages (from onnxruntime>=1.14.1->chromadb) (1.13.3)\n",
      "Requirement already satisfied: importlib-metadata<8.8.0,>=6.0 in c:\\users\\crazz\\anaconda3\\lib\\site-packages (from opentelemetry-api>=1.2.0->chromadb) (8.5.0)\n",
      "Requirement already satisfied: googleapis-common-protos~=1.52 in c:\\users\\crazz\\anaconda3\\lib\\site-packages (from opentelemetry-exporter-otlp-proto-grpc>=1.2.0->chromadb) (1.70.0)\n",
      "Requirement already satisfied: opentelemetry-exporter-otlp-proto-common==1.34.1 in c:\\users\\crazz\\anaconda3\\lib\\site-packages (from opentelemetry-exporter-otlp-proto-grpc>=1.2.0->chromadb) (1.34.1)\n",
      "Requirement already satisfied: opentelemetry-proto==1.34.1 in c:\\users\\crazz\\anaconda3\\lib\\site-packages (from opentelemetry-exporter-otlp-proto-grpc>=1.2.0->chromadb) (1.34.1)\n",
      "Requirement already satisfied: opentelemetry-semantic-conventions==0.55b1 in c:\\users\\crazz\\anaconda3\\lib\\site-packages (from opentelemetry-sdk>=1.2.0->chromadb) (0.55b1)\n",
      "Requirement already satisfied: backoff>=1.10.0 in c:\\users\\crazz\\anaconda3\\lib\\site-packages (from posthog<6.0.0,>=2.4.0->chromadb) (2.2.1)\n",
      "Requirement already satisfied: distro>=1.5.0 in c:\\users\\crazz\\anaconda3\\lib\\site-packages (from posthog<6.0.0,>=2.4.0->chromadb) (1.9.0)\n",
      "Requirement already satisfied: annotated-types>=0.6.0 in c:\\users\\crazz\\anaconda3\\lib\\site-packages (from pydantic>=1.9->chromadb) (0.6.0)\n",
      "Requirement already satisfied: pydantic-core==2.27.1 in c:\\users\\crazz\\anaconda3\\lib\\site-packages (from pydantic>=1.9->chromadb) (2.27.1)\n",
      "Requirement already satisfied: markdown-it-py>=2.2.0 in c:\\users\\crazz\\anaconda3\\lib\\site-packages (from rich>=10.11.0->chromadb) (2.2.0)\n",
      "Requirement already satisfied: pygments<3.0.0,>=2.13.0 in c:\\users\\crazz\\anaconda3\\lib\\site-packages (from rich>=10.11.0->chromadb) (2.15.1)\n",
      "Requirement already satisfied: networkx in c:\\users\\crazz\\anaconda3\\lib\\site-packages (from torch>=1.11.0->sentence-transformers) (3.4.2)\n",
      "Requirement already satisfied: jinja2 in c:\\users\\crazz\\anaconda3\\lib\\site-packages (from torch>=1.11.0->sentence-transformers) (3.1.5)\n",
      "Requirement already satisfied: regex!=2019.12.17 in c:\\users\\crazz\\anaconda3\\lib\\site-packages (from transformers<5.0.0,>=4.41.0->sentence-transformers) (2024.11.6)\n",
      "Requirement already satisfied: safetensors>=0.4.3 in c:\\users\\crazz\\anaconda3\\lib\\site-packages (from transformers<5.0.0,>=4.41.0->sentence-transformers) (0.5.3)\n",
      "Requirement already satisfied: click<9.0.0,>=7.1.1 in c:\\users\\crazz\\anaconda3\\lib\\site-packages (from typer>=0.9.0->chromadb) (8.1.7)\n",
      "Requirement already satisfied: httptools>=0.6.3 in c:\\users\\crazz\\anaconda3\\lib\\site-packages (from uvicorn[standard]>=0.18.3->chromadb) (0.6.4)\n",
      "Requirement already satisfied: python-dotenv>=0.13 in c:\\users\\crazz\\anaconda3\\lib\\site-packages (from uvicorn[standard]>=0.18.3->chromadb) (0.21.0)\n",
      "Requirement already satisfied: watchfiles>=0.13 in c:\\users\\crazz\\anaconda3\\lib\\site-packages (from uvicorn[standard]>=0.18.3->chromadb) (1.1.0)\n",
      "Requirement already satisfied: websockets>=10.4 in c:\\users\\crazz\\anaconda3\\lib\\site-packages (from uvicorn[standard]>=0.18.3->chromadb) (15.0.1)\n",
      "Requirement already satisfied: joblib>=1.2.0 in c:\\users\\crazz\\anaconda3\\lib\\site-packages (from scikit-learn->sentence-transformers) (1.4.2)\n",
      "Requirement already satisfied: threadpoolctl>=3.1.0 in c:\\users\\crazz\\anaconda3\\lib\\site-packages (from scikit-learn->sentence-transformers) (3.5.0)\n",
      "Requirement already satisfied: cachetools<6.0,>=2.0.0 in c:\\users\\crazz\\anaconda3\\lib\\site-packages (from google-auth>=1.0.1->kubernetes>=28.1.0->chromadb) (5.5.1)\n",
      "Requirement already satisfied: pyasn1-modules>=0.2.1 in c:\\users\\crazz\\anaconda3\\lib\\site-packages (from google-auth>=1.0.1->kubernetes>=28.1.0->chromadb) (0.2.8)\n",
      "Requirement already satisfied: rsa<5,>=3.1.4 in c:\\users\\crazz\\anaconda3\\lib\\site-packages (from google-auth>=1.0.1->kubernetes>=28.1.0->chromadb) (4.9.1)\n",
      "Requirement already satisfied: zipp>=3.20 in c:\\users\\crazz\\anaconda3\\lib\\site-packages (from importlib-metadata<8.8.0,>=6.0->opentelemetry-api>=1.2.0->chromadb) (3.21.0)\n",
      "Requirement already satisfied: mdurl~=0.1 in c:\\users\\crazz\\anaconda3\\lib\\site-packages (from markdown-it-py>=2.2.0->rich>=10.11.0->chromadb) (0.1.0)\n",
      "Requirement already satisfied: charset-normalizer<4,>=2 in c:\\users\\crazz\\anaconda3\\lib\\site-packages (from requests->huggingface-hub>=0.20.0->sentence-transformers) (3.3.2)\n",
      "Requirement already satisfied: mpmath<1.4,>=1.1.0 in c:\\users\\crazz\\anaconda3\\lib\\site-packages (from sympy->onnxruntime>=1.14.1->chromadb) (1.3.0)\n",
      "Requirement already satisfied: exceptiongroup>=1.0.2 in c:\\users\\crazz\\anaconda3\\lib\\site-packages (from anyio->httpx>=0.27.0->chromadb) (1.2.0)\n",
      "Requirement already satisfied: humanfriendly>=9.1 in c:\\users\\crazz\\anaconda3\\lib\\site-packages (from coloredlogs->onnxruntime>=1.14.1->chromadb) (10.0)\n",
      "Requirement already satisfied: MarkupSafe>=2.0 in c:\\users\\crazz\\anaconda3\\lib\\site-packages (from jinja2->torch>=1.11.0->sentence-transformers) (3.0.2)\n",
      "Requirement already satisfied: pyreadline3 in c:\\users\\crazz\\anaconda3\\lib\\site-packages (from humanfriendly>=9.1->coloredlogs->onnxruntime>=1.14.1->chromadb) (3.5.4)\n",
      "Requirement already satisfied: pyasn1<0.5.0,>=0.4.6 in c:\\users\\crazz\\anaconda3\\lib\\site-packages (from pyasn1-modules>=0.2.1->google-auth>=1.0.1->kubernetes>=28.1.0->chromadb) (0.4.8)\n"
     ]
    }
   ],
   "source": [
    "!pip install chromadb sentence-transformers numpy ollama\n",
    "\n",
    "import uuid\n",
    "import time\n",
    "import datetime as dt\n",
    "import numpy as np\n",
    "import ollama\n",
    "import subprocess\n",
    "from sentence_transformers import SentenceTransformer\n",
    "import chromadb\n",
    "from chromadb.config import Settings\n",
    "from typing import List, Dict, Any, Tuple"
   ]
  },
  {
   "cell_type": "markdown",
   "metadata": {},
   "source": [
    "## ⚙️ Step 2: Initialize Core Components\n",
    "We initialize the SentenceTransformer model for embeddings and the ChromaDB client for our persistent vector store."
   ]
  },
  {
   "cell_type": "code",
   "execution_count": 5,
   "metadata": {},
   "outputs": [
    {
     "name": "stdout",
     "output_type": "stream",
     "text": [
      "✅ Core components initialized.\n"
     ]
    }
   ],
   "source": [
    "# --- 1. INITIALIZE CORE COMPONENTS ---\n",
    "model = SentenceTransformer(\"all-MiniLM-L6-v2\")\n",
    "client = chromadb.Client(Settings(persist_directory=\"./chroma_store\", is_persistent=True))\n",
    "collection = client.get_or_create_collection(name=\"memory_store\")\n",
    "\n",
    "print(\"✅ Core components initialized.\")"
   ]
  },
  {
   "cell_type": "markdown",
   "metadata": {},
   "source": [
    "## 📝 Step 3: Define All Helper Functions\n",
    "This section contains all the necessary helper functions for storing, pruning, ranking, and retrieving memories, as well as formatting prompts and querying the local LLM."
   ]
  },
  {
   "cell_type": "code",
   "execution_count": 7,
   "metadata": {},
   "outputs": [
    {
     "name": "stdout",
     "output_type": "stream",
     "text": [
      "✅ Helper functions defined.\n"
     ]
    }
   ],
   "source": [
    "# --- 2. HELPER FUNCTIONS ---\n",
    "\n",
    "def now_ts() -> float:\n",
    "    return time.time()\n",
    "\n",
    "def store_memory(entry_text: str, user_id: str, topic: str = \"general\"):\n",
    "    emb = model.encode(entry_text).tolist()\n",
    "    doc_id = str(uuid.uuid4())\n",
    "    metadata = {\"user_id\": user_id.lower(), \"timestamp\": now_ts(), \"topic\": topic}\n",
    "    collection.add(documents=[entry_text], embeddings=[emb], metadatas=[metadata], ids=[doc_id])\n",
    "    print(f\"Stored for {user_id.lower()}: {entry_text[:60]}...\")\n",
    "\n",
    "def prune_old_memories(user_id: str, days_to_keep: int = 90):\n",
    "    if not isinstance(days_to_keep, int) or days_to_keep < 0: return\n",
    "    cutoff_timestamp = time.time() - (days_to_keep * 24 * 60 * 60)\n",
    "    old_memories = collection.get(\n",
    "        where={\"$and\": [{\"user_id\": {\"$eq\": user_id.lower()}}, {\"timestamp\": {\"$lt\": cutoff_timestamp}}]}\n",
    "    )\n",
    "    ids_to_delete = old_memories.get(\"ids\")\n",
    "    if ids_to_delete:\n",
    "        print(f\"🧹 Pruning {len(ids_to_delete)} old memories for user '{user_id.lower()}'...\")\n",
    "        collection.delete(ids=ids_to_delete)\n",
    "\n",
    "def _cosine(a: np.ndarray, b: np.ndarray) -> float:\n",
    "    a, b = np.asarray(a), np.asarray(b)\n",
    "    num = np.dot(a, b)\n",
    "    den = (np.linalg.norm(a) * np.linalg.norm(b)) + 1e-12\n",
    "    return float(num / den)\n",
    "\n",
    "def rerank_results(query_emb: List[float], docs: List[str], metas: List[Dict[str, Any]], embs: List[List[float]]) -> List[Tuple[str, Dict, float]]:\n",
    "    now = now_ts()\n",
    "    ranked = []\n",
    "    alpha = 0.7\n",
    "    decay_days = 14.0\n",
    "    for d, m, e in zip(docs, metas, embs):\n",
    "        sim = _cosine(np.asarray(query_emb), np.asarray(e))\n",
    "        age_days = max(0.0, (now - float(m.get(\"timestamp\", now))) / (60 * 60 * 24))\n",
    "        rec = np.exp(-age_days / decay_days)\n",
    "        score = alpha * sim + (1 - alpha) * rec\n",
    "        ranked.append((d, m, score))\n",
    "    ranked.sort(key=lambda x: x[2], reverse=True)\n",
    "    return ranked\n",
    "\n",
    "def format_chat_history(chat_history: List[Dict]) -> str:\n",
    "    if not chat_history: return \"\"\n",
    "    return \"\\n\".join([f\"{msg['role'].title()}: {msg['content']}\" for msg in chat_history[-4:]])\n",
    "\n",
    "def query_local_llm(prompt: str, model_name: str = \"mistral\") -> str:\n",
    "    ollama_path = r\"C:\\Users\\crazz\\AppData\\Local\\Programs\\Ollama\\ollama.exe\"\n",
    "    try:\n",
    "        result = subprocess.run([ollama_path, \"run\", model_name], input=prompt.encode(\"utf-8\"), stdout=subprocess.PIPE, stderr=subprocess.PIPE, check=True)\n",
    "        return result.stdout.decode(\"utf-8\").strip()\n",
    "    except Exception as e:\n",
    "        return f\"⚠️ An unexpected error occurred: {e}\"\n",
    "\n",
    "print(\"✅ Helper functions defined.\")"
   ]
  },
  {
   "cell_type": "markdown",
   "metadata": {},
   "source": [
    "## 🧠 Step 4: The Chatbot Brain (`rag_chatbot`)\n",
    "This is the main orchestrator function. It uses a robust, hybrid system to determine the user's intent. It first checks for obvious questions using rules. If it's a question, it runs the full RAG pipeline. If it's not a clear question, it responds conversationally while being aware of the short-term chat history."
   ]
  },
  {
   "cell_type": "code",
   "execution_count": 9,
   "metadata": {},
   "outputs": [
    {
     "name": "stdout",
     "output_type": "stream",
     "text": [
      "✅ Main chatbot logic defined.\n"
     ]
    }
   ],
   "source": [
    "def rag_chatbot(user_query: str, user_id: str, chat_history: List[Dict]) -> Tuple[str, list]:\n",
    "    history_str = format_chat_history(chat_history)\n",
    "    user_query_lower = user_query.lower()\n",
    "    question_words = [\"who\", \"what\", \"where\", \"when\", \"why\", \"how\", \"did\", \"do\", \"am i\", \"what's\"]\n",
    "    is_question = any(user_query_lower.startswith(word) for word in question_words) or user_query.endswith(\"?\")\n",
    "\n",
    "    if is_question:\n",
    "        print(\"DEBUG: Intent is [question] by rule.\")\n",
    "        q_emb = model.encode(user_query).tolist()\n",
    "        res = collection.query(query_embeddings=[q_emb], n_results=10, where={\"user_id\": user_id.lower()}, include=[\"documents\", \"metadatas\", \"embeddings\"])\n",
    "        docs, metas, embs = res.get(\"documents\", [[]])[0], res.get(\"metadatas\", [[]])[0], res.get(\"embeddings\", [[]])[0]\n",
    "        \n",
    "        ranked_memories = []\n",
    "        if docs:\n",
    "            ranked_memories = rerank_results(q_emb, docs, metas, embs)[:3]\n",
    "        \n",
    "        context = \"\\n\".join([f\"- {doc}\" for doc, meta, score in ranked_memories]) if ranked_memories else \"No relevant long-term memories found.\"\n",
    "        prompt = f\"\"\"You are an AI assistant. Given the conversation history and the user's long-term memories, answer the user's question.\n",
    "        --- CONVERSATION HISTORY ---\\n{history_str}\\n--- END HISTORY ---\n",
    "        --- LONG-TERM MEMORIES ---\\n{context}\\n--- END MEMORIES ---\n",
    "        User's question: {user_query}\\nAnswer:\"\"\"\n",
    "        response = query_local_llm(prompt)\n",
    "        return response, ranked_memories\n",
    "\n",
    "    else:\n",
    "        print(\"DEBUG: Intent is [chat].\")\n",
    "        prompt = f\"\"\"You are a helpful AI assistant. Continue the conversation naturally.\n",
    "        --- CONVERSATION HISTORY ---\\n{history_str}\\n--- END HISTORY ---\n",
    "        User: {user_query}\\nAssistant:\"\"\"\n",
    "        response = query_local_llm(prompt)\n",
    "        return response, []\n",
    "\n",
    "print(\"✅ Main chatbot logic defined.\")"
   ]
  },
  {
   "cell_type": "markdown",
   "metadata": {},
   "source": [
    "## ⚙️ Step 5: Database Seeding\n",
    "This function populates the database with sample data for a user if their memory store is empty."
   ]
  },
  {
   "cell_type": "code",
   "execution_count": 11,
   "metadata": {},
   "outputs": [
    {
     "name": "stdout",
     "output_type": "stream",
     "text": [
      "✅ Database seeding function defined.\n"
     ]
    }
   ],
   "source": [
    "def populate_db_if_empty(user_id: str):\n",
    "    if len(collection.get(where={\"user_id\": user_id.lower()})['ids']) == 0:\n",
    "        print(f\"No memories found for {user_id.lower()}. Seeding database...\")\n",
    "        seed_entries = [\n",
    "            (\"Booked train tickets to Jaipur for next weekend.\", \"travel\"),\n",
    "            (\"I had dinner with Rahul and we discussed career plans.\", \"social\"),\n",
    "            (\"Watched F1 qualifying highlights on YouTube.\", \"media\")\n",
    "        ]\n",
    "        for txt, topic in seed_entries:\n",
    "            store_memory(txt, user_id=user_id, topic=topic)\n",
    "\n",
    "print(\"✅ Database seeding function defined.\")"
   ]
  },
  {
   "cell_type": "markdown",
   "metadata": {},
   "source": [
    "## 🚀 Step 6: Final Run - Interactive Command-Line Chat\n",
    "This final cell runs the complete application in the command line. The user can store new memories explicitly, and the chatbot will use both long-term and short-term conversational memory to respond.\n",
    "\n",
    "**Note:** To save a memory, you must type `/save` followed by your statement. All other inputs are treated as questions or chat."
   ]
  },
  {
   "cell_type": "code",
   "execution_count": 13,
   "metadata": {},
   "outputs": [
    {
     "name": "stdout",
     "output_type": "stream",
     "text": [
      "--- Personalized Memory Engine (CLI) ---\n"
     ]
    },
    {
     "name": "stdin",
     "output_type": "stream",
     "text": [
      "Please enter your username to begin:  siddharth\n"
     ]
    },
    {
     "name": "stdout",
     "output_type": "stream",
     "text": [
      "No memories found for siddharth. Seeding database...\n",
      "Stored for siddharth: Booked train tickets to Jaipur for next weekend....\n",
      "Stored for siddharth: I had dinner with Rahul and we discussed career plans....\n",
      "Stored for siddharth: Watched F1 qualifying highlights on YouTube....\n",
      "\n",
      "Hello, siddharth! Type '/save [your memory]' to save something, or just chat. Type 'exit' to end.\n",
      "----------------------------------------\n"
     ]
    },
    {
     "name": "stdin",
     "output_type": "stream",
     "text": [
      "[siddharth]>  /save My fav cricketer is Virat Kohli.\n"
     ]
    },
    {
     "name": "stdout",
     "output_type": "stream",
     "text": [
      "Stored for siddharth: My fav cricketer is Virat Kohli....\n",
      "[Assistant]> Okay, I'll remember that.\n"
     ]
    },
    {
     "name": "stdin",
     "output_type": "stream",
     "text": [
      "[siddharth]>  Who is my favourite cricketer?\n"
     ]
    },
    {
     "name": "stdout",
     "output_type": "stream",
     "text": [
      "DEBUG: Intent is [question] by rule.\n",
      "\n",
      "--- Retrieved Memories ---\n",
      "  - (Score: 0.87) My fav cricketer is Virat Kohli.\n",
      "  - (Score: 0.51) I had dinner with Rahul and we discussed career plans.\n",
      "  - (Score: 0.40) Booked train tickets to Jaipur for next weekend.\n",
      "------------------------\n",
      "\n",
      "[Assistant]> Your favorite cricketer is Virat Kohli, as per our previous conversation.\n",
      "\n"
     ]
    },
    {
     "name": "stdin",
     "output_type": "stream",
     "text": [
      "[siddharth]>  exit\n"
     ]
    },
    {
     "name": "stdout",
     "output_type": "stream",
     "text": [
      "Goodbye!\n"
     ]
    }
   ],
   "source": [
    "chat_history = []\n",
    "\n",
    "print(\"--- Personalized Memory Engine (CLI) ---\")\n",
    "user_id = input(\"Please enter your username to begin: \").lower()\n",
    "\n",
    "prune_old_memories(user_id)\n",
    "populate_db_if_empty(user_id)\n",
    "\n",
    "print(f\"\\nHello, {user_id}! Type '/save [your memory]' to save something, or just chat. Type 'exit' to end.\")\n",
    "print(\"-\" * 40)\n",
    "\n",
    "while True:\n",
    "    prompt = input(f\"[{user_id}]> \")\n",
    "    if prompt.lower() == 'exit':\n",
    "        print(\"Goodbye!\")\n",
    "        break\n",
    "    \n",
    "    chat_history.append({\"role\": \"user\", \"content\": prompt})\n",
    "    \n",
    "    if prompt.lower().startswith(\"/save \"):\n",
    "        memory_to_save = prompt[6:]\n",
    "        store_memory(memory_to_save, user_id)\n",
    "        response = \"Okay, I'll remember that.\"\n",
    "        print(f\"[Assistant]> {response}\")\n",
    "    else:\n",
    "        response, memories = rag_chatbot(prompt, user_id, chat_history)\n",
    "        if memories:\n",
    "            print(\"\\n--- Retrieved Memories ---\")\n",
    "            for doc, meta, score in memories:\n",
    "                print(f\"  - (Score: {score:.2f}) {doc}\")\n",
    "            print(\"------------------------\")\n",
    "        print(f\"\\n[Assistant]> {response}\\n\")\n",
    "    \n",
    "    chat_history.append({\"role\": \"assistant\", \"content\": response})"
   ]
  }
 ],
 "metadata": {
  "kernelspec": {
   "display_name": "Python [conda env:base] *",
   "language": "python",
   "name": "conda-base-py"
  },
  "language_info": {
   "codemirror_mode": {
    "name": "ipython",
    "version": 3
   },
   "file_extension": ".py",
   "mimetype": "text/x-python",
   "name": "python",
   "nbconvert_exporter": "python",
   "pygments_lexer": "ipython3",
   "version": "3.10.16"
  }
 },
 "nbformat": 4,
 "nbformat_minor": 4
}
